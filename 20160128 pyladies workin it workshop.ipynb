{
 "cells": [
  {
   "cell_type": "markdown",
   "metadata": {},
   "source": [
    "### [PyLadies Intermediate Talk Night](https://github.com/cterp/pyladies-intermediate-python)\n",
    "\n",
    "- [Folium](https://github.com/python-visualization/folium)\n",
    "- scrapy v BeautifulSoup v pandas.read_html\n",
    "- PyCon Montreal > Matt Harrison Intermediate Python talk\n",
    "\n",
    "Caroline Harbitz, Nordstrom\n",
    "\n",
    "#### list comprehension\n",
    "    new list = [transform interate filter]\n",
    "    l.c. should not contain more than two expressions > use for loop for this\n",
    "    l.c. needs to be readable in one line\n",
    "    n.b. lists preserve order, dictionaries and sets also do this w/o preserving order\n",
    "\n",
    "#### iterators\n",
    "    iterator: an object that implements the interator protocol\n",
    "    "
   ]
  },
  {
   "cell_type": "code",
   "execution_count": null,
   "metadata": {
    "collapsed": true
   },
   "outputs": [],
   "source": []
  },
  {
   "cell_type": "code",
   "execution_count": null,
   "metadata": {
    "collapsed": true
   },
   "outputs": [],
   "source": []
  },
  {
   "cell_type": "code",
   "execution_count": null,
   "metadata": {
    "collapsed": true
   },
   "outputs": [],
   "source": []
  },
  {
   "cell_type": "code",
   "execution_count": null,
   "metadata": {
    "collapsed": true
   },
   "outputs": [],
   "source": []
  },
  {
   "cell_type": "code",
   "execution_count": null,
   "metadata": {
    "collapsed": true
   },
   "outputs": [],
   "source": []
  },
  {
   "cell_type": "code",
   "execution_count": null,
   "metadata": {
    "collapsed": true
   },
   "outputs": [],
   "source": []
  }
 ],
 "metadata": {
  "kernelspec": {
   "display_name": "Python 2",
   "language": "python",
   "name": "python2"
  },
  "language_info": {
   "codemirror_mode": {
    "name": "ipython",
    "version": 2
   },
   "file_extension": ".py",
   "mimetype": "text/x-python",
   "name": "python",
   "nbconvert_exporter": "python",
   "pygments_lexer": "ipython2",
   "version": "2.7.10"
  }
 },
 "nbformat": 4,
 "nbformat_minor": 0
}
