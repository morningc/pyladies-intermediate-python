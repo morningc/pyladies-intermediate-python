{
 "cells": [
  {
   "cell_type": "markdown",
   "metadata": {},
   "source": [
    "## [PyLadies Intermediate Talk Night](https://github.com/cterp/pyladies-intermediate-python)\n",
    "### Caroline Harbitz, Nordstrom\n",
    "\n",
    "- [Folium](https://github.com/python-visualization/folium)\n",
    "- scrapy v BeautifulSoup v pandas.read_html\n",
    "- PyCon Montreal > Matt Harrison Intermediate Python talk\n",
    "- Software Carpentry > for teaching styles + learning tricks (post-it notes for temperature of the room)\n",
    "    http://software-carpentry.org/blog/2014/03/collaborative-lesson-development.html\n",
    "- Mixed languages > http://beakernotebook.com/\n",
    "- rodeo: http://blog.yhat.com/posts/introducing-rodeo.html\n",
    "- module suggestions:\n",
    "    - iterator\n",
    "    - collections\n",
    "    - itertools\n",
    "\n",
    "#### list comprehension\n",
    "    new list = [transform interate filter]\n",
    "    l.c. should not contain more than two expressions > use for loop for this\n",
    "    l.c. needs to be readable in one line\n",
    "    n.b. lists preserve order, dictionaries and sets also do this w/o preserving order\n",
    "\n",
    "#### iterators\n",
    "    iterator: an object that implements the interator protocol\n",
    "    must implement two methods: __iter__() and next()\n",
    "    steps through a iterable object, then throws exception\n",
    "\n",
    "#### generators\n",
    "    generators are functions that use yield expressions > imm. return an iterator\n",
    "    generator expression takes up much less space than list\n",
    "    useful when you have to transform huge sequences + avoid materialization\n",
    "    can only access values one at a time, not the whole collection\n",
    "    \n",
    "#### decorators\n",
    "    goals: \n",
    "        reduce boilerplate code\n",
    "        logging\n",
    "        error handling\n",
    "        caching expensive calculations\n",
    "        retrying functions that might fail\n",
    "    \"design pattern that allows behavior to be added to an existing object dynamically\"\n",
    "    used + highly useful in Flask"
   ]
  },
  {
   "cell_type": "markdown",
   "metadata": {},
   "source": [
    "#### list comprehensions"
   ]
  },
  {
   "cell_type": "code",
   "execution_count": 1,
   "metadata": {
    "collapsed": true
   },
   "outputs": [],
   "source": [
    "import pytest"
   ]
  },
  {
   "cell_type": "code",
   "execution_count": 2,
   "metadata": {
    "collapsed": true
   },
   "outputs": [],
   "source": [
    "# Exercise 1\n",
    "# Use list comprehension to create a function that multiplies\n",
    "# each element in a sequence of numbers by 2\n",
    "# ================================\n",
    "def double(sequence):\n",
    "\tpass\n",
    "\n",
    "def test_double():\n",
    "    assert double(range(3)) == [0,2,4]"
   ]
  },
  {
   "cell_type": "code",
   "execution_count": null,
   "metadata": {
    "collapsed": true
   },
   "outputs": [],
   "source": [
    "# Exercise 2\n",
    "# Use list comprehension to create a function that finds\n",
    "# the odd elements in a sequence of numbers\n",
    "# ================================\n",
    "def odd(sequence):\n",
    "\tpass\n",
    "\n",
    "def test_odd():\n",
    "\tassert odd(range(6)) == [1,3,5]"
   ]
  },
  {
   "cell_type": "code",
   "execution_count": null,
   "metadata": {
    "collapsed": true
   },
   "outputs": [],
   "source": [
    "# Exercise 3\n",
    "# Use list comprehension to create a function that finds\n",
    "# the elements divisible by 3 and 5 in a sequence of numbers\n",
    "# ================================\n",
    "def by_five(sequence):\n",
    "\tpass\n",
    "\n",
    "def test_by_five():\n",
    "\tassert by_five(range(1,31)) == [15, 30]"
   ]
  },
  {
   "cell_type": "code",
   "execution_count": null,
   "metadata": {
    "collapsed": true
   },
   "outputs": [],
   "source": [
    "# Exercise 4\n",
    "# Use list comprehension to create a function that finds\n",
    "# words containing the letter 'e' in a list of words\n",
    "# ================================\n",
    "def e_present(words):\n",
    "\tpass\n",
    "\n",
    "def test_e_present():\n",
    "\tassert e_present(['dog', 'cat', 'heron', 'turtle', 'aardvark', 'pythons', 'elephant']) == ['heron', 'turtle', 'elephant']"
   ]
  },
  {
   "cell_type": "code",
   "execution_count": null,
   "metadata": {
    "collapsed": true
   },
   "outputs": [],
   "source": [
    "# Exercise 5\n",
    "# Use list comprehension to display the index position in front of each element\n",
    "# of a list. For example, say you're given the list [\"zero\", \"one\", \"two\"]. \n",
    "# The output of your list comprehension would be ['0: zero', '1: one', '2: two']\n",
    "# \n",
    "# Hint 1: use helper functions\n",
    "# Hint 2: write a function that accepts the index position and element of each item\n",
    "# in the list, and formats the element into the form 'index: element'\n",
    "# Hint 3: use enumerate() in the iterator portion of the list comprehension\n",
    "# ================================\n",
    "\n",
    "def format_pair(sequence):\n",
    "\tpass\n",
    "\n",
    "def test_format_pair():\n",
    "\tassert format_pair([\"zero\", \"one\", \"two\"]) == ['0: zero', '1: one', '2: two']"
   ]
  },
  {
   "cell_type": "code",
   "execution_count": null,
   "metadata": {
    "collapsed": true
   },
   "outputs": [],
   "source": []
  },
  {
   "cell_type": "code",
   "execution_count": null,
   "metadata": {
    "collapsed": true
   },
   "outputs": [],
   "source": []
  },
  {
   "cell_type": "code",
   "execution_count": null,
   "metadata": {
    "collapsed": true
   },
   "outputs": [],
   "source": []
  },
  {
   "cell_type": "code",
   "execution_count": null,
   "metadata": {
    "collapsed": true
   },
   "outputs": [],
   "source": []
  }
 ],
 "metadata": {
  "kernelspec": {
   "display_name": "Python 2",
   "language": "python",
   "name": "python2"
  },
  "language_info": {
   "codemirror_mode": {
    "name": "ipython",
    "version": 2
   },
   "file_extension": ".py",
   "mimetype": "text/x-python",
   "name": "python",
   "nbconvert_exporter": "python",
   "pygments_lexer": "ipython2",
   "version": "2.7.10"
  }
 },
 "nbformat": 4,
 "nbformat_minor": 0
}
